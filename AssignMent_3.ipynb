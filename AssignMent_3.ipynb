{
  "nbformat": 4,
  "nbformat_minor": 0,
  "metadata": {
    "colab": {
      "provenance": []
    },
    "kernelspec": {
      "name": "python3",
      "display_name": "Python 3"
    },
    "language_info": {
      "name": "python"
    }
  },
  "cells": [
    {
      "cell_type": "markdown",
      "source": [
        " # Write a Python function to sum all the numbers in a list.\n",
        "\n",
        "Sample List : (8, 2, 3, 0, 7)\n",
        "\n",
        "Expected Output : 20\n",
        "\n"
      ],
      "metadata": {
        "id": "QEXaR8l6P4Ud"
      }
    },
    {
      "cell_type": "code",
      "source": [
        "def sum(numbers):\n",
        "  total = 0\n",
        "  for x in numbers:\n",
        "    total += x\n",
        "  return total\n",
        "y = sum((8, 2, 3, 0, 7))\n",
        "print(y)\n"
      ],
      "metadata": {
        "colab": {
          "base_uri": "https://localhost:8080/"
        },
        "id": "bBpktFI0P5rw",
        "outputId": "44964b8c-958d-4e0c-d632-51dae18a9b32"
      },
      "execution_count": 11,
      "outputs": [
        {
          "output_type": "stream",
          "name": "stdout",
          "text": [
            "20\n"
          ]
        }
      ]
    },
    {
      "cell_type": "markdown",
      "source": [
        "#Write a Python program to reverse a string.\n",
        "\n",
        "\n",
        "\n",
        "﻿Sample String : \"1234abcd\"\n",
        "\n",
        "Expected Output : \"dcba4321\""
      ],
      "metadata": {
        "id": "6SN1hK17SBQk"
      }
    },
    {
      "cell_type": "code",
      "source": [
        "def reverse(a):\n",
        "  for i in range(len(a)-1, -1, -1):\n",
        "    print(a[i], end ='')\n",
        "  return \"\"\n",
        "\n",
        "print(reverse(\"1234abcd\"))\n",
        "\n",
        "\n",
        "\n",
        "\n"
      ],
      "metadata": {
        "colab": {
          "base_uri": "https://localhost:8080/"
        },
        "id": "BZcLxUNrSDHp",
        "outputId": "95f923b8-dbe5-4ae5-e541-ad80060c2507"
      },
      "execution_count": 31,
      "outputs": [
        {
          "output_type": "stream",
          "name": "stdout",
          "text": [
            "dcba4321\n"
          ]
        }
      ]
    },
    {
      "cell_type": "markdown",
      "source": [
        "#Write a Python function that accepts a string and calculate the number of upper case letters and lower case letters.\n",
        "\n",
        "\n",
        "\n",
        "﻿Sample String : 'The quick Brow Fox'\n",
        "\n",
        "Expected Output :\n",
        "\n",
        "No. of Upper case characters : 3\n",
        "\n",
        "No. of Lower case Characters : 12"
      ],
      "metadata": {
        "id": "2YSbh185T-xg"
      }
    },
    {
      "cell_type": "code",
      "source": [
        "def count(string):\n",
        "  count_upper = 0\n",
        "  count_lower = 0\n",
        "  for x in string:\n",
        "    if x.isupper():\n",
        "      count_upper += 1\n",
        "    elif x.islower():\n",
        "      count_lower +=1\n",
        "  print(\"No. of Upper case characters:\", str(count_upper))\n",
        "  print(\"No. of Lower case Characters:\", str(count_lower))\n",
        "  return \"\"\n",
        "x = count('The quick Brow Fox')\n",
        "print(x)\n"
      ],
      "metadata": {
        "colab": {
          "base_uri": "https://localhost:8080/"
        },
        "id": "nx8_umsXT__b",
        "outputId": "36ca7efd-bcc6-4ff0-a95b-735f341076ea"
      },
      "execution_count": 28,
      "outputs": [
        {
          "output_type": "stream",
          "name": "stdout",
          "text": [
            "No. of Upper case characters: 3\n",
            "No. of Lower case Characters: 12\n",
            "\n"
          ]
        }
      ]
    },
    {
      "cell_type": "code",
      "source": [],
      "metadata": {
        "id": "pANrzDaQW73O"
      },
      "execution_count": null,
      "outputs": []
    }
  ]
}